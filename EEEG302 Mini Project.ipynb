{
 "cells": [
  {
   "cell_type": "markdown",
   "metadata": {
    "id": "TjgDS4KkxdAm"
   },
   "source": [
    "# Importing Libraries"
   ]
  },
  {
   "cell_type": "code",
   "execution_count": 66,
   "metadata": {
    "id": "sRcSODyjxdAo"
   },
   "outputs": [],
   "source": [
    "import math\n",
    "import numpy as np\n",
    "import matplotlib.pyplot as plt"
   ]
  },
  {
   "cell_type": "markdown",
   "metadata": {
    "id": "kveJtsodxdAo"
   },
   "source": [
    "# Initialization "
   ]
  },
  {
   "cell_type": "code",
   "execution_count": 67,
   "metadata": {
    "id": "2jCD8SxUxdAp"
   },
   "outputs": [],
   "source": [
    "# Stator resistance\n",
    "r1 = 0.641\n",
    "\n",
    "# Stator reactance\n",
    "x1 = 1.106\n",
    "\n",
    "# Rotor resistance\n",
    "r2 = 0.332   \n",
    "\n",
    "# Rotor reactance\n",
    "x2 = 0.464\n",
    "\n",
    "# Magnetization branch reactanc\n",
    "xm = 26.3  \n",
    "\n",
    "# Phase voltage\n",
    "v_phase = 460 / math.sqrt(3)\n",
    "\n",
    "# Synchronous speed (r/min)\n",
    "n_s = 1800             \n",
    "\n",
    "# Synchronous speed (rad/s)\n",
    "w_s = 188.5        "
   ]
  },
  {
   "cell_type": "markdown",
   "metadata": {
    "id": "kW4MDolvxdAp"
   },
   "source": [
    "# Calculation of the Thevenin voltage and impedance from Equations 7-41a and 7-43"
   ]
  },
  {
   "cell_type": "code",
   "execution_count": 68,
   "metadata": {
    "id": "IhJWUfkNxdAp"
   },
   "outputs": [],
   "source": [
    "v_th = v_phase * ( xm / math.sqrt(r1**2 + (x1 + xm)**2) )\n",
    "z_th = ((1j*xm) * (r1 + 1j*x1)) / (r1 + 1j*(x1 + xm))\n",
    "r_th = z_th.real\n",
    "x_th = z_th.imag"
   ]
  },
  {
   "cell_type": "markdown",
   "metadata": {
    "id": "smB9sqnOxdAp"
   },
   "source": [
    "# Calculation of the torque-speed characteristic for many slips between 0 and 1.  \n",
    "##### Note that the first slip value is set to 0.001 instead of exactly 0 to avoid divide-by-zero problems."
   ]
  },
  {
   "cell_type": "code",
   "execution_count": 69,
   "metadata": {
    "colab": {
     "base_uri": "https://localhost:8080/"
    },
    "id": "-QPDkO4lxdAq",
    "outputId": "b1d389dc-64d2-449c-e84b-a0f0408943be"
   },
   "outputs": [
    {
     "name": "stdout",
     "output_type": "stream",
     "text": [
      "50\n"
     ]
    }
   ],
   "source": [
    "# Slip\n",
    "s = np.linspace(0,1,50)\n",
    "s[0] = 0.001\n",
    "\n",
    "# Mechanical speed\n",
    "nm = (1 - s) * n_s\n",
    "print(len(s))"
   ]
  },
  {
   "cell_type": "markdown",
   "metadata": {
    "id": "1WurcNFBxdAq"
   },
   "source": [
    "# Calculaion of torque for original rotor resistance"
   ]
  },
  {
   "cell_type": "code",
   "execution_count": 70,
   "metadata": {
    "id": "czMEIMT8xdAr"
   },
   "outputs": [],
   "source": [
    "t_ind1=[]\n",
    "for ii in range(0, 50):\n",
    "    t_ind1.append((3 * v_th**2 * r2 / s[ii]) / (w_s * ((r_th + r2/s[ii])**2 + (x_th + x2)**2) ))"
   ]
  },
  {
   "cell_type": "markdown",
   "metadata": {
    "id": "739Uz8y3xdAr"
   },
   "source": [
    "# Calculate torque for doubled rotor resistance\n"
   ]
  },
  {
   "cell_type": "code",
   "execution_count": 71,
   "metadata": {
    "id": "UNRjHylJxdAr"
   },
   "outputs": [],
   "source": [
    "t_ind2=[]\n",
    "for ii in range(0, 50):\n",
    "    t_ind2.append((3 * v_th**2 * (2*r2) / s[ii]) / (w_s * ((r_th + (2*r2)/s[ii])**2 + (x_th + x2)**2) ))"
   ]
  },
  {
   "cell_type": "markdown",
   "metadata": {
    "id": "o5w7JjeIxdAr"
   },
   "source": [
    "# Plotting the torque speed curve"
   ]
  },
  {
   "cell_type": "markdown",
   "metadata": {
    "id": "qWfwousJxdAr"
   },
   "source": [
    "### Plotting torque vs speed with original rotor speed"
   ]
  },
  {
   "cell_type": "code",
   "execution_count": 73,
   "metadata": {
    "colab": {
     "base_uri": "https://localhost:8080/",
     "height": 295
    },
    "id": "V8h2s6ftxdAs",
    "outputId": "8d0c41e4-8ddf-48ca-d7b1-06536693781d"
   },
   "outputs": [
    {
     "data": {
      "image/png": "[encoded data removed]",
      "text/plain": [
       "<Figure size 432x288 with 1 Axes>"
      ]
     },
     "metadata": {
      "needs_background": "light"
     },
     "output_type": "display_data"
    }
   ],
   "source": [
    "# plotting the points \n",
    "plt.plot(nm, t_ind1)\n",
    "plt.plot(nm, t_ind2)\n",
    "  \n",
    "# x axis\n",
    "plt.xlabel('Mechanical Speed')\n",
    "\n",
    "# y axis\n",
    "plt.ylabel('Induced Torque')\n",
    "  \n",
    "# title \n",
    "plt.title('Torque vs Speed')\n",
    "  \n",
    "# function to show the plot\n",
    "plt.show()"
   ]
  },
  {
   "cell_type": "markdown",
   "metadata": {
    "id": "KudatW0bxdAs"
   },
   "source": [
    "### Here the orange line represents doubled rotor resistance and blue line represents original rotor resistance"
   ]
  }
 ],
 "metadata": {
  "colab": {
   "collapsed_sections": [],
   "name": "EEEG302_Mini_Project.ipynb",
   "provenance": []
  },
  "kernelspec": {
   "display_name": "Python 3",
   "language": "python",
   "name": "python3"
  },
  "language_info": {
   "codemirror_mode": {
    "name": "ipython",
    "version": 3
   },
   "file_extension": ".py",
   "mimetype": "text/x-python",
   "name": "python",
   "nbconvert_exporter": "python",
   "pygments_lexer": "ipython3",
   "version": "3.8.3"
  }
 },
 "nbformat": 4,
 "nbformat_minor": 1
}
